{
 "cells": [
  {
   "cell_type": "code",
   "execution_count": 84,
   "metadata": {},
   "outputs": [],
   "source": [
    "import numpy as np\n",
    "import scipy.integrate as integrate\n",
    "import scipy.interpolate as interpolate\n",
    "import matplotlib.pyplot as plt\n",
    "import numpy.polynomial.chebyshev as chb\n",
    "import time"
   ]
  },
  {
   "cell_type": "code",
   "execution_count": 383,
   "metadata": {},
   "outputs": [],
   "source": [
    "#problem 1\n",
    "\n",
    "def fun(x):\n",
    "    return 1.0/(1.0+x**2)\n",
    "\n",
    "def fun2(x):\n",
    "    return 1.0+np.exp(-0.5*x**2/(sig**2))\n",
    "\n",
    "def simple_integrate(fun,a,b,y1,y2,tol):\n",
    "    #edit 1\n",
    "    xx=np.linspace(a,b,5)\n",
    "    x = np.linspace(xx[1],xx[-2],3)\n",
    "    \n",
    "    dx=(b-a)/4.0\n",
    "    y=fun(x)\n",
    "    neval=len(x)\n",
    "    \n",
    "    #edits 2 and 3\n",
    "    f1=(y1+4*y[1]+y2)/6.0*(b-a)\n",
    "    f2=(y1+4*y[0]+2*y[1]+4*y[2]+y2)/12.0*(b-a)\n",
    "    \n",
    "    myerr=np.abs(f2-f1)\n",
    "    print([a,b,f1,f2])\n",
    "    if (myerr<tol):\n",
    "        #return (f2)/1.0,myerr,neval\n",
    "        return (16.0*f2-f1)/15.0,myerr,neval\n",
    "    else:\n",
    "        mid=0.5*(b+a)\n",
    "        \n",
    "        #edits 4 and 5\n",
    "        f_left,err_left,neval_left=simple_integrate(fun,a,mid,y1,y[1],tol/2.0)\n",
    "        f_right,err_right,neval_right=simple_integrate(fun,mid,b,y[1],y2,tol/2.0)\n",
    "        \n",
    "        neval=neval+neval_left+neval_right\n",
    "        f=f_left+f_right\n",
    "        err=err_left+err_right\n",
    "        return f,err,neval\n",
    "    \n",
    "#on any integration this code does 40% less evaluations \n",
    "#of f(x) by saving the edge values of f\n",
    "#we could write code that would do 60% by saving the middle valuation of f.\n",
    "#integrating to Lorentzian from -20 to 20 to 0.001 precision ordinarily has 295 calls\n",
    "#integrating to Lorentzian from -20 to 20 to 0.00001 precision ordinarily has 875 calls\n",
    "#integrating to Lorentzian from -20 to 20 to 0.0000001 precision ordinarily has 3015 calls"
   ]
  },
  {
   "cell_type": "code",
   "execution_count": 424,
   "metadata": {
    "scrolled": true
   },
   "outputs": [
    {
     "name": "stdout",
     "output_type": "stream",
     "text": [
      "Cheb RMS error:  7.466385410910268e-14\n",
      "Cheb max error:  6.750155989720952e-13\n"
     ]
    }
   ],
   "source": [
    "#problem 2  \n",
    "#i couldn't figure the fitting regime so i called chebfit\n",
    "\n",
    "x = np.linspace(0.5,1,101)\n",
    "xx = np.linspace(0.5,1,10001)\n",
    "\n",
    "def cheb(x,n):\n",
    "    return np.cos(n*np.arccos(x))\n",
    "\n",
    "def cheb_eval(coeffs,x):\n",
    "    y = 0\n",
    "    for i in range(len(coeffs)):\n",
    "        y = y + coeffs[i]*cheb(x,i)\n",
    "    return y\n",
    "\n",
    "coeffs2 = chb.chebfit(xx,log2(xx),62)\n",
    "\n",
    "err_cheb = np.std(cheb_eval(coeffs2,xx)-log2(xx))\n",
    "maxe_cheb = np.abs(np.max(cheb_eval(coeffs2,xx)-log2(xx)))\n",
    "print('Cheb RMS error: ', err_cheb)\n",
    "print('Cheb max error: ', maxe_cheb)"
   ]
  },
  {
   "cell_type": "code",
   "execution_count": 425,
   "metadata": {},
   "outputs": [
    {
     "data": {
      "text/plain": [
       "array([-2.49615204e-01, -2.44713657e-01,  2.77798291e-01,  3.03688734e-01,\n",
       "        1.03043983e-01, -1.55710010e-01, -1.48225383e-01,  2.37990811e-02,\n",
       "        1.43022731e-01,  3.81781057e-02, -8.57320982e-02, -8.45085597e-02,\n",
       "        4.15199291e-02,  8.50772364e-02,  8.91061062e-03, -7.39035661e-02,\n",
       "       -4.00813998e-02,  4.75593238e-02,  5.64151895e-02, -1.62589278e-02,\n",
       "       -6.07789442e-02, -8.70200592e-03,  4.95351211e-02,  3.11407053e-02,\n",
       "       -3.51737700e-02, -4.16400530e-02,  1.55441514e-02,  4.53459449e-02,\n",
       "        2.62158621e-03, -4.25403889e-02, -1.64843693e-02,  3.35561176e-02,\n",
       "        2.79484317e-02, -2.43800653e-02, -3.31896671e-02,  1.35186979e-02,\n",
       "        3.56768497e-02, -4.09032348e-03, -3.59759431e-02, -2.54081565e-03,\n",
       "        3.38134984e-02,  8.15366413e-03, -3.26239603e-02, -1.05537898e-02,\n",
       "        3.17965809e-02,  1.01904513e-02, -3.14978529e-02, -7.61582500e-03,\n",
       "        3.30341779e-02,  1.72942385e-04, -3.36705435e-02,  1.35525516e-02,\n",
       "        2.73840419e-02, -3.15191738e-02, -3.19537575e-03,  3.64869262e-02,\n",
       "       -4.28739724e-02,  2.94245780e-02, -1.37194036e-02,  4.46447351e-03,\n",
       "       -9.85035495e-04,  1.33923840e-04, -8.54518668e-06])"
      ]
     },
     "execution_count": 425,
     "metadata": {},
     "output_type": "execute_result"
    }
   ],
   "source": [
    "#by checking this we can see the largest error we can see the largest error incurred is ~10**-6\n",
    "#this occurs at 62nd order\n",
    "coeffs2"
   ]
  },
  {
   "cell_type": "code",
   "execution_count": 426,
   "metadata": {},
   "outputs": [
    {
     "data": {
      "text/plain": [
       "<matplotlib.collections.PathCollection at 0x120c92e50>"
      ]
     },
     "execution_count": 426,
     "metadata": {},
     "output_type": "execute_result"
    },
    {
     "data": {
      "image/png": "[encoded data removed]",
      "text/plain": [
       "<Figure size 432x288 with 1 Axes>"
      ]
     },
     "metadata": {
      "needs_background": "light"
     },
     "output_type": "display_data"
    }
   ],
   "source": [
    "x = np.linspace(0.5,1,10)\n",
    "plt.scatter(xx,cheb_eval(coeffs2,xx)-log2(xx),s=3)\n"
   ]
  },
  {
   "cell_type": "code",
   "execution_count": 427,
   "metadata": {},
   "outputs": [
    {
     "name": "stdout",
     "output_type": "stream",
     "text": [
      "Legendre RMS error:  2.4897265170864634e-14\n",
      "Legendre max error:  5.67323965583455e-14\n"
     ]
    },
    {
     "data": {
      "text/plain": [
       "<matplotlib.collections.PathCollection at 0x120d96730>"
      ]
     },
     "execution_count": 427,
     "metadata": {},
     "output_type": "execute_result"
    },
    {
     "data": {
      "image/png": "[encoded data removed]",
      "text/plain": [
       "<Figure size 432x288 with 1 Axes>"
      ]
     },
     "metadata": {
      "needs_background": "light"
     },
     "output_type": "display_data"
    }
   ],
   "source": [
    "deg = 62\n",
    "params = np.polynomial.legendre.legfit(x_poly,true,deg)\n",
    "evals = np.polynomial.legendre.legval(xx_poly,params)\n",
    "\n",
    "err_leg = np.std(np.polynomial.legendre.legval(xx,params)-log2(xx))\n",
    "maxe_leg = np.abs(np.max(np.polynomial.legendre.legval(xx,params)-log2(xx)))\n",
    "\n",
    "print('Legendre RMS error: ', err_leg)\n",
    "print('Legendre max error: ', maxe_leg)\n",
    "\n",
    "plt.scatter(xx_poly,evals-log2(xx),s=3)"
   ]
  },
  {
   "cell_type": "code",
   "execution_count": 429,
   "metadata": {},
   "outputs": [],
   "source": [
    "#the Chebyshev has larger RMS error while the Legendre fit has higher max error.\n",
    "#this is evident by the plots of the residuals"
   ]
  },
  {
   "cell_type": "code",
   "execution_count": 448,
   "metadata": {},
   "outputs": [
    {
     "name": "stdout",
     "output_type": "stream",
     "text": [
      "0.023829936981201172\n"
     ]
    }
   ],
   "source": [
    "#problem 3\n",
    "\n",
    "#we use an implicit solver here since h is very large compared to the stepsize\n",
    "half_lives = [1.409*10**17,2082240,24120,7.742*10**12,2.377*10**12,5.045*10**10,330350.4,186,1608,1194,1.64*10**-4,7.032*10**8,1.581*10**8,1.195*10**7]\n",
    "\n",
    "def fun(x,y,hl = [1.409*10**17,2082240,24120,7.742*10**12,2.377*10**12,5.045*10**10,330350.4,186,1608,1194,1.64*10**-4,7.032*10**8,1.581*10**8,1.195*10**7]):\n",
    "    dydx = np.zeros(len(hl)+1)\n",
    "    dydx[0] = -y[0]/hl[0]\n",
    "    for i in range(1,len(hl)):\n",
    "        dydx[i] = y[i-1]/hl[i-1] - y[i]/hl[i]\n",
    "    dydx[-1] = y[-2]/hl[-2] \n",
    "    return dydx\n",
    "\n",
    "y0 = np.zeros(15)\n",
    "y0[0] = 1\n",
    "t0=0\n",
    "t1=10**9\n",
    "times=np.linspace(0,10**9,1001)\n",
    "t1 = time.time()\n",
    "ans_stiff = integrate.solve_ivp(fun,[t0,t1],y0, t_eval = times, method = 'Radau')\n",
    "t2 = time.time()\n",
    "print(t2-t1)"
   ]
  },
  {
   "cell_type": "code",
   "execution_count": 432,
   "metadata": {},
   "outputs": [
    {
     "data": {
      "text/plain": [
       "array([[1.00000000e+00, 1.00000000e+00, 1.00000000e+00, ...,\n",
       "        9.99999993e-01, 9.99999993e-01, 9.99999993e-01],\n",
       "       [0.00000000e+00, 6.92950500e-13, 1.35288342e-12, ...,\n",
       "        1.47762571e-11, 1.47762577e-11, 1.47762583e-11],\n",
       "       [0.00000000e+00, 6.15669110e-15, 1.38629779e-14, ...,\n",
       "        1.71163165e-13, 1.71163172e-13, 1.71163180e-13],\n",
       "       ...,\n",
       "       [0.00000000e+00, 2.40413808e-43, 6.74790487e-37, ...,\n",
       "        3.25899572e-20, 3.26040189e-20, 3.26180848e-20],\n",
       "       [0.00000000e+00, 6.30247319e-47, 1.06308007e-39, ...,\n",
       "        2.34313630e-21, 2.34416179e-21, 2.34518758e-21],\n",
       "       [0.00000000e+00, 1.47123608e-50, 1.32140129e-42, ...,\n",
       "        2.66535213e-21, 2.66692968e-21, 2.66850784e-21]])"
      ]
     },
     "execution_count": 432,
     "metadata": {},
     "output_type": "execute_result"
    }
   ],
   "source": [
    "ans_stiff.y"
   ]
  },
  {
   "cell_type": "code",
   "execution_count": 449,
   "metadata": {},
   "outputs": [
    {
     "data": {
      "text/plain": [
       "<matplotlib.collections.PathCollection at 0x120d6cd90>"
      ]
     },
     "execution_count": 449,
     "metadata": {},
     "output_type": "execute_result"
    },
    {
     "data": {
      "image/png": "[encoded data removed]",
      "text/plain": [
       "<Figure size 432x288 with 1 Axes>"
      ]
     },
     "metadata": {
      "needs_background": "light"
     },
     "output_type": "display_data"
    }
   ],
   "source": [
    "#ratio of Pb206 to U238. The derivative should be strictly positive but alas.\n",
    "#the region of zero Pb206 makes sense since it takes time for products to progres down the decay chain.\n",
    "plt.scatter(ans_stiff.t, ans_stiff.y[14],s=3)"
   ]
  },
  {
   "cell_type": "code",
   "execution_count": 433,
   "metadata": {},
   "outputs": [
    {
     "name": "stderr",
     "output_type": "stream",
     "text": [
      "<ipython-input-433-ed66bea77daa>:2: RuntimeWarning: invalid value encountered in true_divide\n",
      "  plt.scatter(ans_stiff.t, ans_stiff.y[3]/ans_stiff.y[4],s=3)\n"
     ]
    },
    {
     "data": {
      "text/plain": [
       "(0.0, 50000000.0)"
      ]
     },
     "execution_count": 433,
     "metadata": {},
     "output_type": "execute_result"
    },
    {
     "data": {
      "image/png": "[encoded data removed]",
      "text/plain": [
       "<Figure size 432x288 with 1 Axes>"
      ]
     },
     "metadata": {
      "needs_background": "light"
     },
     "output_type": "display_data"
    }
   ],
   "source": [
    "#ratio of Th230 to U234\n",
    "plt.scatter(ans_stiff.t, ans_stiff.y[3]/ans_stiff.y[4],s=3)\n",
    "plt.xlim((0,0.5*10**8))\n",
    "plt.ylim((0,0.5*10**8))\n"
   ]
  },
  {
   "cell_type": "code",
   "execution_count": null,
   "metadata": {},
   "outputs": [],
   "source": []
  }
 ],
 "metadata": {
  "kernelspec": {
   "display_name": "Python 3",
   "language": "python",
   "name": "python3"
  },
  "language_info": {
   "codemirror_mode": {
    "name": "ipython",
    "version": 3
   },
   "file_extension": ".py",
   "mimetype": "text/x-python",
   "name": "python",
   "nbconvert_exporter": "python",
   "pygments_lexer": "ipython3",
   "version": "3.8.3"
  }
 },
 "nbformat": 4,
 "nbformat_minor": 4
}
