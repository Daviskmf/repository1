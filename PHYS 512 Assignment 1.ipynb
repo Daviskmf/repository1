{
 "cells": [
  {
   "cell_type": "code",
   "execution_count": 119,
   "metadata": {},
   "outputs": [],
   "source": [
    "import numpy as np\n",
    "import matplotlib.pyplot as plt\n",
    "from scipy import interpolate\n",
    "from scipy import integrate"
   ]
  },
  {
   "cell_type": "code",
   "execution_count": 195,
   "metadata": {},
   "outputs": [
    {
     "name": "stdout",
     "output_type": "stream",
     "text": [
      "-1.0 0.0041737564519555015 4.166667436425464e-09\n",
      "-1.5 0.0004167375064489942 4.1666651899585627e-10\n",
      "-2.0 4.166737500255202e-05 4.166834412233644e-11\n",
      "-2.5 4.166673750471972e-06 4.159384642266062e-12\n",
      "-3.0 4.166667435523408e-07 3.8470095164999663e-13\n",
      "-3.5 4.166665190652452e-08 1.6601303665098044e-14\n",
      "-4.0 4.166834433050326e-09 1.2877719723913827e-13\n",
      "-4.5 4.1593839483766715e-10 9.488781288480297e-13\n",
      "-5.0 3.8470115981681374e-11 1.1002223437861502e-12\n",
      "-5.5 1.660227511024459e-12 3.1431489355693287e-12\n",
      "-6.0 1.2877698907232116e-11 4.689692210957386e-11\n",
      "-6.5 9.488776431254564e-11 9.340477176433826e-11\n",
      "-7.0 1.1002221356193331e-10 5.263558686130487e-12\n",
      "-7.5 3.143147964124182e-10 1.3109286156609556e-09\n",
      "-8.0 4.689692190140704e-09 8.274037097827369e-10\n",
      "-8.5 9.34047705847263e-09 8.720744335000141e-10\n",
      "-9.0 5.263559588186695e-10 8.274037097827369e-10\n",
      "-9.5 1.3109286167711787e-07 3.8624802087619536e-08\n",
      "-10.0 8.274037099909037e-08 5.6338554941040564e-08\n",
      "-10.5 8.720744326673469e-08 7.074273099833689e-07\n",
      "-11.0 8.274037099909037e-08 1.053884469684116e-06\n",
      "-11.5 3.86248020878277e-06 2.9016982278449316e-06\n",
      "-12.0 5.633855494124873e-06 7.992778373591344e-06\n"
     ]
    }
   ],
   "source": [
    "#problem 1\n",
    "\n",
    "#i apologize for the lack of plots in this assignment, I'm cutting it real close and need to submit\n",
    "\n",
    "expvals = np.linspace(-1,-12,23)\n",
    "for i in expvals:\n",
    "    dx = 10**i\n",
    "    deriv1 = (2*np.exp(dx)-2*np.exp(-dx)+np.exp(2*dx)-np.exp(-2*dx))/(8*dx)\n",
    "    diff1 = np.abs(np.exp(0)-deriv1)\n",
    "    deriv2 = (2*np.exp(0.01*dx)-2*np.exp(-0.01*dx)+np.exp(2*0.01*dx)-np.exp(-2*0.01*dx))/(8*dx)\n",
    "    diff2 = np.abs(0.01*np.exp(0)-deriv2)\n",
    "    print(i,diff1,diff2)\n",
    "    \n",
    "#dx should be on the order (10**-8)**(1/3) ~ 10**(-3). however, since we neglected \n",
    "#quintic terms and above\n",
    "#and we assume f and f''' are on the same order of magnitude, i would guess there's much error.\n",
    "#we can see that for e**x the discrepancy is minimized at dx ~ 10**(-5.5). \n",
    "#for e**(0.01x) the discrepancy is minimized at ~ 10**(-3.5).\n"
   ]
  },
  {
   "cell_type": "code",
   "execution_count": 196,
   "metadata": {},
   "outputs": [
    {
     "name": "stdout",
     "output_type": "stream",
     "text": [
      "my interpolated voltage is  0.5269532605692218\n",
      "my rms error is  0.013653039415440488\n"
     ]
    }
   ],
   "source": [
    "#problem 2\n",
    "\n",
    "\n",
    "import warnings\n",
    "warnings.simplefilter('ignore', np.RankWarning)\n",
    "\n",
    "diodedata = np.transpose(np.loadtxt('Documents/gitdirectory/phys512-2020/problem_sets/lakeshore.txt'))\n",
    "\n",
    "#cubic polyfit as done in class\n",
    "temp = np.linspace(diodedata[0][1],diodedata[0][-1],10000)\n",
    "v_interp = [0]*len(temp)\n",
    "params_diode = [0]*len(temp)\n",
    "eval_diode = [0]*len(temp)\n",
    "ind = [0]*len(temp)\n",
    "#continued\n",
    "for i in range(len(temp)):\n",
    "    ind[i] = np.max(np.where(temp[i]>=diodedata[0])[0])\n",
    "    temp_use = diodedata[0][ind[i]-1:ind[i]+3]\n",
    "    v_use = diodedata[1][ind[i]-1:ind[i]+3]\n",
    "    params_diode[i] = np.polyfit(temp_use,v_use,3)\n",
    "    eval_diode[i] = np.polyval(params_diode[i],temp[i])\n",
    "    v_interp[i] = eval_diode[i]\n",
    "\n",
    "#temp_query is the temperature that we wish to interpolate\n",
    "#finds the point nearest the temp_query in the array of 10000 and gives the voltage value from the part above\n",
    "temp_query = 314.14159\n",
    "temp_array = np.zeros(len(temp))\n",
    "for i in range(len(temp)):\n",
    "    temp_array[i] = np.abs(temp[i]-temp_query)\n",
    "number = temp_array.argmin()\n",
    "print('my interpolated voltage is ',v_interp[number])\n",
    "\n",
    "\n",
    "x_ish = [0]*(len(diodedata[0]))\n",
    "#2d array of length 144*10000\n",
    "temp_array2 = np.zeros((len(diodedata[0]),len(temp)))\n",
    "goodtemps = [0]*len(diodedata[0])\n",
    "\n",
    "for i in range(len(diodedata[0])-1):\n",
    "    #for each true temperature value, find the nearest value in the array of length 10000\n",
    "    for j in range(len(temp)):\n",
    "        temp_array2[i][j] = np.abs(diodedata[0][i+1]-temp[j])\n",
    "    goodtemps[i] = temp_array2[i].argmin()\n",
    "\n",
    "#calculate the std deviation\n",
    "sumsquares = 0\n",
    "for i in range(len(diodedata[0])-1):\n",
    "    sumsquares = sumsquares + (diodedata[1][i]-v_interp[goodtemps[i]])**2\n",
    "print('my rms error is ', np.sqrt(sumsquares/(len(diodedata[0])-1)))\n",
    "\n",
    "\n",
    "    \n",
    "    \n"
   ]
  },
  {
   "cell_type": "code",
   "execution_count": 48,
   "metadata": {},
   "outputs": [],
   "source": [
    "#problem 3\n",
    "\n",
    "\n",
    "#def stuff for the cosine part\n",
    "x_cos = np.linspace(-np.pi/2,np.pi/2,20)\n",
    "y_cos = np.zeros(len(x_cos))\n",
    "for i in range(len(x_cos)):\n",
    "    y_cos[i] = np.cos(x_cos[i])"
   ]
  },
  {
   "cell_type": "code",
   "execution_count": 69,
   "metadata": {},
   "outputs": [
    {
     "name": "stdout",
     "output_type": "stream",
     "text": [
      "my rms error is  2.8479272586395743e-05\n"
     ]
    }
   ],
   "source": [
    "#cubic polynomial fit\n",
    "x_cos1001 = np.linspace(x_cos[1],x_cos[-1],1001)\n",
    "xx_cos1001 = np.linspace(x_cos[0],x_cos[-1],1001)\n",
    "y_true = np.cos(xx_cos1001)\n",
    "\n",
    "#get parameters from the shortened array \n",
    "y_interp = np.zeros(len(x_cos1001))\n",
    "for i in range(len(x_cos1001)):\n",
    "    ind = np.max(np.where(x_cos1001[i]>=x_cos)[0])\n",
    "    x_use = x_cos[ind-1:ind+3]\n",
    "    y_use = y_cos[ind-1:ind+3]\n",
    "    pars = np.polyfit(x_use,y_use,3)\n",
    "#use full array here\n",
    "    pred = np.polyval(pars,xx_cos1001[i])\n",
    "    y_interp[i] = pred\n",
    "\n",
    "print('my rms error is ',np.std(y_interp-y_true))\n"
   ]
  },
  {
   "cell_type": "code",
   "execution_count": 70,
   "metadata": {},
   "outputs": [
    {
     "name": "stdout",
     "output_type": "stream",
     "text": [
      "my rms error is  1.1424124183107988e-06\n"
     ]
    }
   ],
   "source": [
    "#spline fit\n",
    "#nice and easy\n",
    "spln = interpolate.splrep(x_cos,y_cos)\n",
    "yy = interpolate.splev(xx_cos1001,spln)\n",
    "\n",
    "print('my rms error is ',np.std(yy-y_true))"
   ]
  },
  {
   "cell_type": "code",
   "execution_count": 216,
   "metadata": {},
   "outputs": [
    {
     "name": "stdout",
     "output_type": "stream",
     "text": [
      "my rms error is  0.14973579630471723\n"
     ]
    },
    {
     "data": {
      "text/plain": [
       "<matplotlib.collections.PathCollection at 0x11b2e2be0>"
      ]
     },
     "execution_count": 216,
     "metadata": {},
     "output_type": "execute_result"
    },
    {
     "data": {
      "image/png": "[encoded data removed]",
      "text/plain": [
       "<Figure size 432x288 with 1 Axes>"
      ]
     },
     "metadata": {
      "needs_background": "light"
     },
     "output_type": "display_data"
    }
   ],
   "source": [
    "#rat fit\n",
    "#fairly certain this should be the most accurate of the three\n",
    "def rat_eval(p,q,x):\n",
    "    top=0\n",
    "    for i in range(len(p)):\n",
    "        top=top+p[i]*x**i\n",
    "    bot=1\n",
    "    for i in range(len(q)):\n",
    "        bot=bot+q[i]*x**(i+1)\n",
    "    return top/bot\n",
    "\n",
    "def rat_fit(x,y,n,m):\n",
    "    assert(len(x)==n+m-1)\n",
    "    assert(len(y)==len(x))\n",
    "    mat=np.zeros([n+m-1,n+m-1])\n",
    "    for i in range(n):\n",
    "        mat[:,i]=x**i\n",
    "    for i in range(1,m):\n",
    "        mat[:,i-1+n]=-y*x**i\n",
    "    pars=np.dot(np.linalg.inv(mat),y)\n",
    "    p=pars[:n]\n",
    "    q=pars[n:]\n",
    "    return p,q\n",
    "\n",
    "n = 3\n",
    "m = 18\n",
    "p,q = rat_fit(x_cos,y_cos,n,m)\n",
    "pred = rat_eval(p,q,xx_cos1001)\n",
    "\n",
    "print('my rms error is ',np.std(pred-y_true))\n",
    "\n",
    "plt.scatter(x_cos,y_cos)\n",
    "plt.scatter(xx_cos1001,pred,s=3)"
   ]
  },
  {
   "cell_type": "code",
   "execution_count": 42,
   "metadata": {},
   "outputs": [],
   "source": [
    "#def stuff for the lorentzian\n",
    "x_lor = np.linspace(-1,1,9)\n",
    "y_lor = np.zeros(len(x_lor))\n",
    "for i in range(len(x_lor)):\n",
    "    y_lor[i] = np.cos(x_lor[i])\n",
    "    \n",
    "def lor(x):\n",
    "    return 1/(1+x**2)"
   ]
  },
  {
   "cell_type": "code",
   "execution_count": 76,
   "metadata": {},
   "outputs": [
    {
     "name": "stdout",
     "output_type": "stream",
     "text": [
      "my rms error is  0.03184264277054447\n"
     ]
    },
    {
     "data": {
      "text/plain": [
       "<matplotlib.collections.PathCollection at 0x119486e80>"
      ]
     },
     "execution_count": 76,
     "metadata": {},
     "output_type": "execute_result"
    },
    {
     "data": {
      "image/png": "[encoded data removed]",
      "text/plain": [
       "<Figure size 432x288 with 1 Axes>"
      ]
     },
     "metadata": {
      "needs_background": "light"
     },
     "output_type": "display_data"
    }
   ],
   "source": [
    "#cubic polynomial fit\n",
    "x_lor1001 = np.linspace(x_lor[1],x_lor[-1],1001)\n",
    "xx_lor1001 = np.linspace(x_lor[0],x_lor[-1],1001)\n",
    "y_true = lor(xx_lor1001)\n",
    "y_interp = np.zeros(len(x_lor1001))\n",
    "for i in range(len(x_cos1001)):\n",
    "    ind = np.max(np.where(x_lor1001[i]>=x_lor)[0])\n",
    "    x_use = x_lor[ind-1:ind+3]\n",
    "    y_use = y_lor[ind-1:ind+3]\n",
    "    pars = np.polyfit(x_use,y_use,3)\n",
    "    pred = np.polyval(pars,xx_lor1001[i])\n",
    "    y_interp[i] = pred\n",
    "\n",
    "print('my rms error is ',np.std(y_interp-y_true))\n",
    "\n",
    "plt.scatter(x_lor,y_lor)\n",
    "plt.scatter(xx_lor1001,y_interp,s=3)"
   ]
  },
  {
   "cell_type": "code",
   "execution_count": 77,
   "metadata": {},
   "outputs": [
    {
     "name": "stdout",
     "output_type": "stream",
     "text": [
      "my rms error is  0.031821701686346134\n"
     ]
    }
   ],
   "source": [
    "#spline fit\n",
    "spln = interpolate.splrep(x_lor,y_lor)\n",
    "yy = interpolate.splev(xx_lor1001,spln)\n",
    "\n",
    "print('my rms error is ',np.std(yy-y_true))"
   ]
  },
  {
   "cell_type": "code",
   "execution_count": 220,
   "metadata": {},
   "outputs": [
    {
     "name": "stdout",
     "output_type": "stream",
     "text": [
      "my rms error is  0.18920239209715312\n"
     ]
    }
   ],
   "source": [
    "#rat fit\n",
    "#the Maclaurin series of 1/(1+x**2) is 1 - x**2 + x**4 ...\n",
    "#this is probably part of the reason why the p,q values tend to blow up at \n",
    "#even numbers of n and m. it must be creating a singular matrix. \n",
    "#when we switch to np.linalg.pinv the divergent values of q disappear and\n",
    "#the accuracy of the rational fit is maintained.\n",
    "n = 4\n",
    "m = 6\n",
    "p,q = rat_fit(x_lor,y_lor,n,m)\n",
    "pred = rat_eval(p,q,xx_lor1001)\n",
    "\n",
    "print('my rms error is ',np.std(pred-y_true))"
   ]
  },
  {
   "cell_type": "code",
   "execution_count": 219,
   "metadata": {},
   "outputs": [],
   "source": [
    "#problem 4\n",
    "\n",
    "\n",
    "#define the function to integrate (outside of sphere)\n",
    "Z=2\n",
    "R=1\n",
    "def dE(theta,Z,R):\n",
    "        return np.sin(theta)*(Z-R*np.cos(theta))/(R**2+Z**2-2*R*Z*np.cos(theta))**(3/2)\n",
    "    \n",
    "#must manually input values for R and Z    \n",
    "def dE_step(theta):\n",
    "        return np.sin(theta)*(2-2*np.cos(theta))/(2**2+2**2-2*2*2*np.cos(theta))**(3/2)\n",
    "    "
   ]
  },
  {
   "cell_type": "code",
   "execution_count": 186,
   "metadata": {},
   "outputs": [
    {
     "data": {
      "text/plain": [
       "(0.25000000000000216, 2.7755575615629154e-15)"
      ]
     },
     "execution_count": 186,
     "metadata": {},
     "output_type": "execute_result"
    }
   ],
   "source": [
    "#the 'args' part is setting the values of R and Z\n",
    "scipy.integrate.quad(dE,0,np.pi,args=(2,2))\n",
    "\n",
    "#in units of sigma*R**2/(2*epsilon_0) of course"
   ]
  },
  {
   "cell_type": "code",
   "execution_count": 221,
   "metadata": {},
   "outputs": [
    {
     "name": "stderr",
     "output_type": "stream",
     "text": [
      "<ipython-input-219-16ae4dc517f7>:9: RuntimeWarning: invalid value encountered in true_divide\n",
      "  return np.sin(theta)*(2-2*np.cos(theta))/(2**2+2**2-2*2*2*np.cos(theta))**(3/2)\n"
     ]
    },
    {
     "ename": "RecursionError",
     "evalue": "maximum recursion depth exceeded while calling a Python object",
     "output_type": "error",
     "traceback": [
      "\u001b[0;31m---------------------------------------------------------------------------\u001b[0m",
      "\u001b[0;31mRecursionError\u001b[0m                            Traceback (most recent call last)",
      "\u001b[0;32m<ipython-input-221-1ce55f7fba9d>\u001b[0m in \u001b[0;36m<module>\u001b[0;34m\u001b[0m\n\u001b[1;32m     14\u001b[0m         \u001b[0;32mreturn\u001b[0m \u001b[0ma1\u001b[0m\u001b[0;34m+\u001b[0m\u001b[0ma2\u001b[0m\u001b[0;34m\u001b[0m\u001b[0;34m\u001b[0m\u001b[0m\n\u001b[1;32m     15\u001b[0m \u001b[0;34m\u001b[0m\u001b[0m\n\u001b[0;32m---> 16\u001b[0;31m \u001b[0mans\u001b[0m\u001b[0;34m=\u001b[0m\u001b[0mintegrate_step\u001b[0m\u001b[0;34m(\u001b[0m\u001b[0mdE_step\u001b[0m\u001b[0;34m,\u001b[0m\u001b[0;36m0\u001b[0m\u001b[0;34m,\u001b[0m\u001b[0mnp\u001b[0m\u001b[0;34m.\u001b[0m\u001b[0mpi\u001b[0m\u001b[0;34m,\u001b[0m\u001b[0;36m0.001\u001b[0m\u001b[0;34m)\u001b[0m\u001b[0;34m\u001b[0m\u001b[0;34m\u001b[0m\u001b[0m\n\u001b[0m\u001b[1;32m     17\u001b[0m \u001b[0mprint\u001b[0m\u001b[0;34m(\u001b[0m\u001b[0mans\u001b[0m\u001b[0;34m)\u001b[0m\u001b[0;34m\u001b[0m\u001b[0;34m\u001b[0m\u001b[0m\n\u001b[1;32m     18\u001b[0m \u001b[0;34m\u001b[0m\u001b[0m\n",
      "\u001b[0;32m<ipython-input-221-1ce55f7fba9d>\u001b[0m in \u001b[0;36mintegrate_step\u001b[0;34m(fun, x1, x2, tol)\u001b[0m\n\u001b[1;32m     10\u001b[0m     \u001b[0;32melse\u001b[0m\u001b[0;34m:\u001b[0m\u001b[0;34m\u001b[0m\u001b[0;34m\u001b[0m\u001b[0m\n\u001b[1;32m     11\u001b[0m         \u001b[0mxm\u001b[0m\u001b[0;34m=\u001b[0m\u001b[0;36m0.5\u001b[0m\u001b[0;34m*\u001b[0m\u001b[0;34m(\u001b[0m\u001b[0mx1\u001b[0m\u001b[0;34m+\u001b[0m\u001b[0mx2\u001b[0m\u001b[0;34m)\u001b[0m\u001b[0;34m\u001b[0m\u001b[0;34m\u001b[0m\u001b[0m\n\u001b[0;32m---> 12\u001b[0;31m         \u001b[0ma1\u001b[0m\u001b[0;34m=\u001b[0m\u001b[0mintegrate_step\u001b[0m\u001b[0;34m(\u001b[0m\u001b[0mfun\u001b[0m\u001b[0;34m,\u001b[0m\u001b[0mx1\u001b[0m\u001b[0;34m,\u001b[0m\u001b[0mxm\u001b[0m\u001b[0;34m,\u001b[0m\u001b[0mtol\u001b[0m\u001b[0;34m/\u001b[0m\u001b[0;36m2\u001b[0m\u001b[0;34m)\u001b[0m\u001b[0;34m\u001b[0m\u001b[0;34m\u001b[0m\u001b[0m\n\u001b[0m\u001b[1;32m     13\u001b[0m         \u001b[0ma2\u001b[0m\u001b[0;34m=\u001b[0m\u001b[0mintegrate_step\u001b[0m\u001b[0;34m(\u001b[0m\u001b[0mfun\u001b[0m\u001b[0;34m,\u001b[0m\u001b[0mxm\u001b[0m\u001b[0;34m,\u001b[0m\u001b[0mx2\u001b[0m\u001b[0;34m,\u001b[0m\u001b[0mtol\u001b[0m\u001b[0;34m/\u001b[0m\u001b[0;36m2\u001b[0m\u001b[0;34m)\u001b[0m\u001b[0;34m\u001b[0m\u001b[0;34m\u001b[0m\u001b[0m\n\u001b[1;32m     14\u001b[0m         \u001b[0;32mreturn\u001b[0m \u001b[0ma1\u001b[0m\u001b[0;34m+\u001b[0m\u001b[0ma2\u001b[0m\u001b[0;34m\u001b[0m\u001b[0;34m\u001b[0m\u001b[0m\n",
      "... last 1 frames repeated, from the frame below ...\n",
      "\u001b[0;32m<ipython-input-221-1ce55f7fba9d>\u001b[0m in \u001b[0;36mintegrate_step\u001b[0;34m(fun, x1, x2, tol)\u001b[0m\n\u001b[1;32m     10\u001b[0m     \u001b[0;32melse\u001b[0m\u001b[0;34m:\u001b[0m\u001b[0;34m\u001b[0m\u001b[0;34m\u001b[0m\u001b[0m\n\u001b[1;32m     11\u001b[0m         \u001b[0mxm\u001b[0m\u001b[0;34m=\u001b[0m\u001b[0;36m0.5\u001b[0m\u001b[0;34m*\u001b[0m\u001b[0;34m(\u001b[0m\u001b[0mx1\u001b[0m\u001b[0;34m+\u001b[0m\u001b[0mx2\u001b[0m\u001b[0;34m)\u001b[0m\u001b[0;34m\u001b[0m\u001b[0;34m\u001b[0m\u001b[0m\n\u001b[0;32m---> 12\u001b[0;31m         \u001b[0ma1\u001b[0m\u001b[0;34m=\u001b[0m\u001b[0mintegrate_step\u001b[0m\u001b[0;34m(\u001b[0m\u001b[0mfun\u001b[0m\u001b[0;34m,\u001b[0m\u001b[0mx1\u001b[0m\u001b[0;34m,\u001b[0m\u001b[0mxm\u001b[0m\u001b[0;34m,\u001b[0m\u001b[0mtol\u001b[0m\u001b[0;34m/\u001b[0m\u001b[0;36m2\u001b[0m\u001b[0;34m)\u001b[0m\u001b[0;34m\u001b[0m\u001b[0;34m\u001b[0m\u001b[0m\n\u001b[0m\u001b[1;32m     13\u001b[0m         \u001b[0ma2\u001b[0m\u001b[0;34m=\u001b[0m\u001b[0mintegrate_step\u001b[0m\u001b[0;34m(\u001b[0m\u001b[0mfun\u001b[0m\u001b[0;34m,\u001b[0m\u001b[0mxm\u001b[0m\u001b[0;34m,\u001b[0m\u001b[0mx2\u001b[0m\u001b[0;34m,\u001b[0m\u001b[0mtol\u001b[0m\u001b[0;34m/\u001b[0m\u001b[0;36m2\u001b[0m\u001b[0;34m)\u001b[0m\u001b[0;34m\u001b[0m\u001b[0;34m\u001b[0m\u001b[0m\n\u001b[1;32m     14\u001b[0m         \u001b[0;32mreturn\u001b[0m \u001b[0ma1\u001b[0m\u001b[0;34m+\u001b[0m\u001b[0ma2\u001b[0m\u001b[0;34m\u001b[0m\u001b[0;34m\u001b[0m\u001b[0m\n",
      "\u001b[0;31mRecursionError\u001b[0m: maximum recursion depth exceeded while calling a Python object"
     ]
    }
   ],
   "source": [
    "#step integrator\n",
    "def integrate_step(fun,x1,x2,tol):\n",
    "    x=np.linspace(x1,x2,5)\n",
    "    y=fun(x)\n",
    "    area1=(x2-x1)*(y[0]+4*y[2]+y[4])/6\n",
    "    area2=(x2-x1)*( y[0]+4*y[1]+2*y[2]+4*y[3]+y[4])/12\n",
    "    myerr=np.abs(area1-area2)\n",
    "    if myerr<tol:\n",
    "        return area2\n",
    "    else:\n",
    "        xm=0.5*(x1+x2)\n",
    "        a1=integrate_step(fun,x1,xm,tol/2)\n",
    "        a2=integrate_step(fun,xm,x2,tol/2)\n",
    "        return a1+a2\n",
    "\n",
    "ans=integrate_step(dE_step,0,np.pi,0.001)\n",
    "print(ans)\n",
    " \n",
    "#at Z=R, the quad properly integrates to the correct value, as well as inside and outside \n",
    "#the sphere. At Z=R, there is a singularity in the integral, which causes the step integrator\n",
    "#to fail. I guess this means quad does not have to evaluate dE at theta = 0, and uses a\n",
    "#different, more robust method altogether."
   ]
  }
 ],
 "metadata": {
  "kernelspec": {
   "display_name": "Python 3",
   "language": "python",
   "name": "python3"
  },
  "language_info": {
   "codemirror_mode": {
    "name": "ipython",
    "version": 3
   },
   "file_extension": ".py",
   "mimetype": "text/x-python",
   "name": "python",
   "nbconvert_exporter": "python",
   "pygments_lexer": "ipython3",
   "version": "3.8.3"
  }
 },
 "nbformat": 4,
 "nbformat_minor": 2
}
